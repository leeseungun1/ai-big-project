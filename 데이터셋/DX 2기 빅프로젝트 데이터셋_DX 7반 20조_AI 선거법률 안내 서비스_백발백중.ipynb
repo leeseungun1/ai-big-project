{
 "cells": [
  {
   "cell_type": "code",
   "execution_count": null,
   "id": "e605d403-39af-4daa-8aed-ba949b951c73",
   "metadata": {},
   "outputs": [],
   "source": [
    "import sys\n",
    "print(sys.version)"
   ]
  },
  {
   "cell_type": "code",
   "execution_count": null,
   "id": "de471814-4cf7-4cae-ae26-4e5c1bc96239",
   "metadata": {},
   "outputs": [],
   "source": [
    "import pandas as pd\n",
    "import matplotlib.pyplot as plt\n",
    "import seaborn as sns"
   ]
  },
  {
   "cell_type": "code",
   "execution_count": null,
   "id": "34541e1f-0a79-439c-a31c-a7f7fae8db46",
   "metadata": {},
   "outputs": [],
   "source": [
    "url = 'https://apis.data.go.kr/1170000/law/lawSearchList.do?serviceKey=BAMeC3FzuB5pthgorHym0lfi5omDMuquVLDIWwoteNaPfAQ4Jsk8lqDRZCReamd9PyVkW3ww%2BasXUKdJybHxrA%3D%3D&target=law&query=*&numOfRows=10000000&pageNo=1'\n",
    "\n",
    "df11 = pd.read_xml(url, xpath = './/law')\n",
    "df11.head()"
   ]
  },
  {
   "cell_type": "markdown",
   "id": "0a158c25-6dc3-4476-8ec1-fe97ed5850a4",
   "metadata": {},
   "source": [
    "# 선거와 투표 관련된 법령들 목록 리스트로 저장"
   ]
  },
  {
   "cell_type": "code",
   "execution_count": null,
   "id": "b41e69f5-3cd1-477f-94bd-ca57beafc52e",
   "metadata": {},
   "outputs": [],
   "source": [
    "df1 = df11.query('법령명한글.str.contains(\"선거|투표\")',engine='python')\n",
    "\n",
    "list10=list(df1['법령일련번호'].unique())\n",
    "l1=list(df11['법령ID'].unique())"
   ]
  },
  {
   "cell_type": "code",
   "execution_count": null,
   "id": "cb68a6f4-4bbb-47a6-b1df-a4dd3346c66e",
   "metadata": {},
   "outputs": [],
   "source": [
    "df1.to_csv('./votelist.csv', index=False)"
   ]
  },
  {
   "cell_type": "markdown",
   "id": "fe3fb2c8-206e-4d5c-be8e-080fea6af913",
   "metadata": {},
   "source": [
    "# 앞에서 만든 리스트 기반으로 조항,항제,호제,목제 추출\n",
    "    조항,항제,호제,목제 폴더에 법령ID로 분류해서 따로 저장"
   ]
  },
  {
   "cell_type": "markdown",
   "id": "28167fd4-5a21-49c8-9293-e26e4a50d025",
   "metadata": {},
   "source": [
    "# 조문"
   ]
  },
  {
   "cell_type": "code",
   "execution_count": 151,
   "id": "49fabdf7-3acb-4e21-b8be-57ed11c44606",
   "metadata": {},
   "outputs": [
    {
     "name": "stderr",
     "output_type": "stream",
     "text": [
      "100%|██████████| 50/50 [01:08<00:00,  1.38s/it]\n"
     ]
    }
   ],
   "source": [
    "import pandas as pd\n",
    "import xml.etree.ElementTree as ET\n",
    "from urllib.request import urlopen\n",
    "from tqdm import tqdm\n",
    "\n",
    "#앞서 본문 리스르 뽑아온 csv파일을 불러오는 단계\n",
    "law_list = pd.read_csv(\"./votelist.csv\")\n",
    "\n",
    "#조문단위에서 뽑아올 XML요소 정리\n",
    "contents = ['조문번호','조문가지번호','조문여부','조문제목','조문시행일자',\n",
    "            '조문이동이전','조문이동이후','조문변경여부','조문제개정유형',\n",
    "            '조문내용','조문참고자료','항']\n",
    "\n",
    "sub_dict = {}\n",
    "rows = []\n",
    "\n",
    "for i in tqdm(range(len(law_list))):\n",
    "    try:\n",
    "        #각 법령에 접근하기 위해 URL을 지정해주는 부분\n",
    "        url = \"https://www.law.go.kr\"\n",
    "        link = law_list.loc[i]['법령상세링크'].replace('HTML', 'XML')\n",
    "        url += link\n",
    "        response = urlopen(url).read()\n",
    "        xtree = ET.fromstring(response)\n",
    "\n",
    "        #print(url)\n",
    "        #print(xtree[1][0].attrib['조문키'])\n",
    "\n",
    "        # 각 법령에 접근 후 조문 읽어오기\n",
    "        # len(xtree[1]) 은 조문단위의 수 만큼 접근\n",
    "        for a in range(len(xtree[1])):\n",
    "            sub_dict['법령ID'] = xtree[0][0].text\n",
    "            sub_dict['조문키'] = xtree[1][a].attrib[\"조문키\"]\n",
    "            # contents는 조문단위의 구성 XML 요소들\n",
    "            for content in contents:\n",
    "                dict_key = content\n",
    "                try:\n",
    "                    dict_value = xtree[1][a].find(content).text\n",
    "                except:\n",
    "                    dict_value = ' '\n",
    "                sub_dict[dict_key] = dict_value\n",
    "            rows.append(sub_dict)    \n",
    "            sub_dict = {}\n",
    "\n",
    "        each_law_content = pd.DataFrame(rows)\n",
    "\n",
    "        #파일이름을 법령명으로 하기 위한 부분\n",
    "        file_name1 = xtree[0][0].text\n",
    "        path_format1 = './조항_법령ID/{0}.csv'.format(file_name1)\n",
    "\n",
    "        each_law_content.to_csv(path_format1, index=False)\n",
    "        \n",
    "        rows = []\n",
    "    except:\n",
    "        continue"
   ]
  },
  {
   "cell_type": "markdown",
   "id": "1d8d318f-3f5c-4b58-af52-dd3a9e4f5fc3",
   "metadata": {},
   "source": [
    "# 법령 항제"
   ]
  },
  {
   "cell_type": "code",
   "execution_count": 152,
   "id": "9c6998c4-1fd1-4f26-8bb7-3465d21d1cfa",
   "metadata": {},
   "outputs": [
    {
     "name": "stderr",
     "output_type": "stream",
     "text": [
      "100%|██████████| 50/50 [01:08<00:00,  1.36s/it]\n"
     ]
    }
   ],
   "source": [
    "import pandas as pd\n",
    "import xml.etree.ElementTree as ET\n",
    "from urllib.request import urlopen\n",
    "from tqdm import trange\n",
    "import re\n",
    "\n",
    "#앞서 본문 리스르 뽑아온 csv파일을 불러오는 단계\n",
    "law_list = pd.read_csv(\"./votelist.csv\")\n",
    "#조문단위에서 뽑아올 XML요소 정리\n",
    "contents = ['항번호','항제개정유형','항제개정일자문자열','항내용','호']\n",
    "\n",
    "sub_dict = {}\n",
    "rows = []\n",
    "\n",
    "for i in tqdm(range(len(law_list))):\n",
    "    try:\n",
    "        #각 법령에 접근하기 위해 URL을 지정해주는 부분\n",
    "        url = \"https://www.law.go.kr\"\n",
    "        link = law_list.loc[i]['법령상세링크'].replace('HTML', 'XML')\n",
    "        url += link\n",
    "        response = urlopen(url).read()\n",
    "        xtree = ET.fromstring(response)\n",
    "\n",
    "        for a in range(len(xtree[1])):\n",
    "            for b in range(len(xtree[1][a])):\n",
    "                sub_dict['법령ID'] = xtree[0][0].text\n",
    "                sub_dict['조문키'] = xtree[1][a].attrib[\"조문키\"]\n",
    "                for content in contents:\n",
    "                    dict_key = content\n",
    "                    try:\n",
    "                        dict_value = xtree[1][a][b].find(content).text\n",
    "                    except:\n",
    "                        dict_value = ' '\n",
    "                    sub_dict[dict_key] = dict_value\n",
    "                rows.append(sub_dict)    \n",
    "                sub_dict = {}\n",
    "\n",
    "        each_law_content = pd.DataFrame(rows)\n",
    "\n",
    "        #파일이름을 법령명으로 하기 위한 부분\n",
    "        file_name1 = xtree[0][0].text\n",
    "        path_format1 = './항제_법령ID/{0}.csv'.format(file_name1)\n",
    "\n",
    "        each_law_content = pd.DataFrame(rows)\n",
    "        each_law_content.to_csv(path_format1, index=False, encoding='utf-8')\n",
    "\n",
    "        rows = []\n",
    "    except:\n",
    "        continue"
   ]
  },
  {
   "cell_type": "markdown",
   "id": "dce67f5d-13ab-4fa5-8fb8-948a026494eb",
   "metadata": {},
   "source": [
    "# 호제"
   ]
  },
  {
   "cell_type": "code",
   "execution_count": 204,
   "id": "8991bc12-818e-4ccf-a3ec-842dfa91bc37",
   "metadata": {},
   "outputs": [
    {
     "name": "stderr",
     "output_type": "stream",
     "text": [
      "100%|██████████| 50/50 [01:07<00:00,  1.35s/it]\n"
     ]
    }
   ],
   "source": [
    "import pandas as pd\n",
    "import xml.etree.ElementTree as ET\n",
    "from urllib.request import urlopen\n",
    "from tqdm import trange\n",
    "import re\n",
    "\n",
    "#앞서 본문 리스르 뽑아온 csv파일을 불러오는 단계\n",
    "law_list = pd.read_csv(\"./votelist.csv\")\n",
    "\n",
    "#조문단위에서 뽑아올 XML요소 정리\n",
    "contents = ['호번호','호내용','목']\n",
    "\n",
    "sub_dict = {}\n",
    "rows = []\n",
    "\n",
    "for i in tqdm(range(len(law_list))):\n",
    "    try:\n",
    "        url = \"https://www.law.go.kr\"\n",
    "        link = law_list.loc[i]['법령상세링크'].replace('HTML', 'XML')\n",
    "        url += link\n",
    "        response = urlopen(url).read()\n",
    "        xtree = ET.fromstring(response)\n",
    "\n",
    "        for a in range(len(xtree[1])):\n",
    "            for b in range(len(xtree[1][a])):\n",
    "                for c in range(len(xtree[1][a][b])):\n",
    "                    sub_dict['법령ID'] = xtree[0][0].text\n",
    "                    sub_dict['조문키'] = xtree[1][a].attrib[\"조문키\"]\n",
    "                    try:\n",
    "                        sub_dict['항번호'] = xtree[1][a][b].find('항번호').text\n",
    "                    except:\n",
    "                        sub_dict['항번호'] = ' '\n",
    "                    for content in contents:\n",
    "                        dict_key = content\n",
    "                        try:\n",
    "                            dict_value = xtree[1][a][b][c].find(content).text\n",
    "                        except:\n",
    "                            dict_value = ' '\n",
    "                        sub_dict[dict_key] = dict_value\n",
    "                    rows.append(sub_dict)    \n",
    "                    sub_dict = {}\n",
    "\n",
    "        each_law_content = pd.DataFrame(rows)\n",
    "\n",
    "        #파일이름을 법령명으로 하기 위한 부분\n",
    "        file_name1 = xtree[0][0].text\n",
    "        path_format1 = './호제_법령ID/{0}.csv'.format(file_name1)\n",
    "\n",
    "        each_law_content = pd.DataFrame(rows)\n",
    "        each_law_content.to_csv(path_format1, index=False, encoding='utf-8')\n",
    "\n",
    "        rows = []\n",
    "    except:\n",
    "        continue"
   ]
  },
  {
   "cell_type": "markdown",
   "id": "20c2bc49-4093-4aef-ae5d-baea95625859",
   "metadata": {},
   "source": [
    "# 목제"
   ]
  },
  {
   "cell_type": "code",
   "execution_count": 205,
   "id": "5534bd82-b364-498c-bcf6-1c5ded3d5afc",
   "metadata": {},
   "outputs": [
    {
     "name": "stderr",
     "output_type": "stream",
     "text": [
      "100%|██████████| 50/50 [01:14<00:00,  1.48s/it]\n"
     ]
    }
   ],
   "source": [
    "import pandas as pd\n",
    "import xml.etree.ElementTree as ET\n",
    "from urllib.request import urlopen\n",
    "from tqdm import trange\n",
    "import re\n",
    "\n",
    "#앞서 본문 리스르 뽑아온 csv파일을 불러오는 단계\n",
    "law_list = pd.read_csv(\"./votelist.csv\")\n",
    "\n",
    "#조문단위에서 뽑아올 XML요소 정리\n",
    "contents = ['목번호','목내용']\n",
    "\n",
    "sub_dict = {}\n",
    "rows = []\n",
    "\n",
    "for i in tqdm(range(len(law_list))):\n",
    "    try:\n",
    "        url = \"https://www.law.go.kr\"\n",
    "        link = law_list.loc[i]['법령상세링크'].replace('HTML', 'XML')\n",
    "        url += link\n",
    "        response = urlopen(url).read()\n",
    "        xtree = ET.fromstring(response)\n",
    "\n",
    "        for a in range(len(xtree[1])):\n",
    "            for b in range(len(xtree[1][a])):\n",
    "                for c in range(len(xtree[1][a][b])):\n",
    "                    for d in range(len(xtree[1][a][b][c])):\n",
    "                        sub_dict['법령ID'] = xtree[0][0].text\n",
    "                        sub_dict['조문키'] = xtree[1][a].attrib[\"조문키\"]\n",
    "                        try:\n",
    "                            sub_dict['항번호'] = xtree[1][a][b].find('항번호').text\n",
    "                        except:\n",
    "                            sub_dict['항번호'] = ' '\n",
    "                        try:\n",
    "                            sub_dict['호번호'] = xtree[1][a][b][c].find('호번호').text\n",
    "                        except:\n",
    "                            sub_dict['호번호'] = ' '\n",
    "                        for content in contents:\n",
    "                            dict_key = content\n",
    "                            try:\n",
    "                                dict_value = xtree[1][a][b][c][d].find(content).text\n",
    "                            except:\n",
    "                                dict_value = ' '\n",
    "                            sub_dict[dict_key] = dict_value\n",
    "                        rows.append(sub_dict)    \n",
    "                        sub_dict = {}\n",
    "\n",
    "        each_law_content = pd.DataFrame(rows)\n",
    "\n",
    "        #파일이름을 법령명으로 하기 위한 부분\n",
    "        file_name1 = xtree[0][0].text\n",
    "        path_format1 = './목제_법령ID/{0}.csv'.format(file_name1)\n",
    "\n",
    "        each_law_content = pd.DataFrame(rows)\n",
    "        each_law_content.to_csv(path_format1, index=False, encoding='utf-8')\n",
    "\n",
    "        rows = []\n",
    "    except:\n",
    "        continue"
   ]
  },
  {
   "cell_type": "markdown",
   "id": "827bae2b-de17-4f51-8568-debc65c955f5",
   "metadata": {},
   "source": [
    "# 데이터 합치기"
   ]
  },
  {
   "cell_type": "code",
   "execution_count": 7,
   "id": "67ad98df-bae2-4aec-a6d0-28efd44f652a",
   "metadata": {},
   "outputs": [],
   "source": [
    "import os\n",
    "files = os.listdir('./조항_법령ID')\n",
    "for i in files:\n",
    "    globals()['조항{}'.format(i.split('.')[0])] = pd.read_csv(f'./조항_법령ID/{i}')\n",
    "   \n"
   ]
  },
  {
   "cell_type": "code",
   "execution_count": 8,
   "id": "dfd30f27-09df-4122-8aa7-22cf68d6580d",
   "metadata": {},
   "outputs": [],
   "source": [
    "a = [조항001399, 조항001723, 조항001725, 조항002847, 조항006026, 조항006032, 조항006033, 조항006034, 조항006035, 조항006037, 조항006042, 조항006043, 조항006044, 조항006045, 조항006046, \n",
    "     조항006047, 조항006049, 조항006050, 조항006054, 조항006057, 조항006064, 조항006065, 조항006069, \n",
    "     조항009364, 조항009507, 조항009615, 조항009617, 조항009629, 조항009729, 조항009796, 조항009797, 조항009919, 조항010174, 조항010351, 조항010367, 조항010397, 조항010920, 조항011102, 조항011704, \n",
    "     조항011968, 조항011969, 조항011991, 조항012010, 조항012073, 조항012113, 조항012319,\n",
    "     조항013588, 조항014206, 조항014264, 조항014303]\n"
   ]
  },
  {
   "cell_type": "code",
   "execution_count": 9,
   "id": "124d59c6-2e26-4339-9b84-8e1b6b9b90b9",
   "metadata": {},
   "outputs": [],
   "source": [
    "files = os.listdir('./호제_법령ID')\n",
    "\n",
    "for i in files:\n",
    "    globals()['호제{}'.format(i.split('.')[0])] = pd.read_csv(f'./호제_법령ID/{i}')\n",
    "    \n"
   ]
  },
  {
   "cell_type": "code",
   "execution_count": 10,
   "id": "5c266926-2a20-451b-bbc9-383baeea3a27",
   "metadata": {},
   "outputs": [],
   "source": [
    "b = [호제001399, 호제001723, 호제001725, 호제002847, 호제006026, 호제006032, 호제006033, 호제006034, 호제006035, 호제006037, 호제006042, 호제006043, 호제006044, 호제006045, 호제006046, \n",
    "     호제006047, 호제006049, 호제006050, 호제006054, 호제006057, 호제006064, 호제006065, 호제006069, \n",
    "     호제009364, 호제009507, 호제009615, 호제009617, 호제009629, 호제009729, 호제009796, 호제009797, 호제009919, 호제010174, 호제010351, 호제010367, 호제010397, 호제010920, 호제011102, 호제011704, \n",
    "     호제011968, 호제011969, 호제011991, 호제012010, 호제012073, 호제012113, 호제012319,\n",
    "     호제013588, 호제014206, 호제014264, 호제014303]"
   ]
  },
  {
   "cell_type": "code",
   "execution_count": 11,
   "id": "5cf05b3e-c686-4908-86c8-a1bcf8640af0",
   "metadata": {},
   "outputs": [],
   "source": [
    "files = os.listdir('./항제_법령ID')\n",
    "\n",
    "for i in files:\n",
    "    globals()['항제{}'.format(i.split('.')[0])] = pd.read_csv(f'./항제_법령ID/{i}')"
   ]
  },
  {
   "cell_type": "code",
   "execution_count": 12,
   "id": "e18275d9-c78b-4109-966e-19c4907321ce",
   "metadata": {},
   "outputs": [],
   "source": [
    "c = [항제001399, 항제001723, 항제001725, 항제002847, 항제006026, 항제006032, 항제006033, 항제006034, 항제006035, 항제006037, 항제006042, 항제006043, 항제006044, 항제006045, 항제006046, \n",
    "     항제006047, 항제006049, 항제006050, 항제006054, 항제006057, 항제006064, 항제006065, 항제006069, \n",
    "     항제009364, 항제009507, 항제009615, 항제009617, 항제009629, 항제009729, 항제009796, 항제009797, 항제009919, 항제010174, 항제010351, 항제010367, 항제010397, 항제010920, 항제011102, 항제011704, \n",
    "     항제011968, 항제011969, 항제011991, 항제012010, 항제012073, 항제012113, 항제012319,\n",
    "     항제013588, 항제014206, 항제014264, 항제014303]"
   ]
  },
  {
   "cell_type": "code",
   "execution_count": 39,
   "id": "061a84c7-5109-47ec-ae1d-1d1a1681d2e2",
   "metadata": {},
   "outputs": [],
   "source": [
    "for i,y in zip(range(len(files)),files):\n",
    "    total1 = pd.merge(a[i], c[i], how='outer',on='조문키')\n",
    "    total1 = pd.merge(total1, b[i], how='outer', on='조문키')\n",
    "    total1.drop(['조문가지번호', '조문이동이전', '조문이동이후','조문변경여부', '조문제개정유형', '호', '호번호',  '목','항번호_x','항번호_y','법령ID_x','법령ID_y','항'],axis=1,inplace=True)\n",
    "    total1 = total1.drop_duplicates().reset_index(drop=True)\n",
    "    \n",
    "    path = './total/{0}.csv'.format(y.split('.')[0])\n",
    "    total1.to_csv(path, index = None,encoding='utf-8') #csv파일로 생성"
   ]
  }
 ],
 "metadata": {
  "kernelspec": {
   "display_name": "Python 3",
   "language": "python",
   "name": "python3"
  },
  "language_info": {
   "codemirror_mode": {
    "name": "ipython",
    "version": 3
   },
   "file_extension": ".py",
   "mimetype": "text/x-python",
   "name": "python",
   "nbconvert_exporter": "python",
   "pygments_lexer": "ipython3",
   "version": "3.8.8"
  }
 },
 "nbformat": 4,
 "nbformat_minor": 5
}
